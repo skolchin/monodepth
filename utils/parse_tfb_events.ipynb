{
 "cells": [
  {
   "cell_type": "code",
   "execution_count": 2,
   "metadata": {},
   "outputs": [
    {
     "name": "stderr",
     "output_type": "stream",
     "text": [
      "c:\\Users\\kol\\Miniconda3\\envs\\tf1\\lib\\site-packages\\tensorflow\\python\\framework\\dtypes.py:526: FutureWarning: Passing (type, 1) or '1type' as a synonym of type is deprecated; in a future version of numpy, it will be understood as (type, (1,)) / '(1,)type'.\n",
      "  _np_qint8 = np.dtype([(\"qint8\", np.int8, 1)])\n",
      "c:\\Users\\kol\\Miniconda3\\envs\\tf1\\lib\\site-packages\\tensorflow\\python\\framework\\dtypes.py:527: FutureWarning: Passing (type, 1) or '1type' as a synonym of type is deprecated; in a future version of numpy, it will be understood as (type, (1,)) / '(1,)type'.\n",
      "  _np_quint8 = np.dtype([(\"quint8\", np.uint8, 1)])\n",
      "c:\\Users\\kol\\Miniconda3\\envs\\tf1\\lib\\site-packages\\tensorflow\\python\\framework\\dtypes.py:528: FutureWarning: Passing (type, 1) or '1type' as a synonym of type is deprecated; in a future version of numpy, it will be understood as (type, (1,)) / '(1,)type'.\n",
      "  _np_qint16 = np.dtype([(\"qint16\", np.int16, 1)])\n",
      "c:\\Users\\kol\\Miniconda3\\envs\\tf1\\lib\\site-packages\\tensorflow\\python\\framework\\dtypes.py:529: FutureWarning: Passing (type, 1) or '1type' as a synonym of type is deprecated; in a future version of numpy, it will be understood as (type, (1,)) / '(1,)type'.\n",
      "  _np_quint16 = np.dtype([(\"quint16\", np.uint16, 1)])\n",
      "c:\\Users\\kol\\Miniconda3\\envs\\tf1\\lib\\site-packages\\tensorflow\\python\\framework\\dtypes.py:530: FutureWarning: Passing (type, 1) or '1type' as a synonym of type is deprecated; in a future version of numpy, it will be understood as (type, (1,)) / '(1,)type'.\n",
      "  _np_qint32 = np.dtype([(\"qint32\", np.int32, 1)])\n",
      "c:\\Users\\kol\\Miniconda3\\envs\\tf1\\lib\\site-packages\\tensorflow\\python\\framework\\dtypes.py:535: FutureWarning: Passing (type, 1) or '1type' as a synonym of type is deprecated; in a future version of numpy, it will be understood as (type, (1,)) / '(1,)type'.\n",
      "  np_resource = np.dtype([(\"resource\", np.ubyte, 1)])\n"
     ]
    }
   ],
   "source": [
    "import numpy as np\n",
    "import tensorflow as tf\n",
    "from matplotlib import pyplot as plt\n",
    "from pathlib import Path"
   ]
  },
  {
   "cell_type": "code",
   "execution_count": 42,
   "metadata": {},
   "outputs": [],
   "source": [
    "def imshow(im, cmap='normal'):\n",
    "    plt.figure()\n",
    "    plt.axis('off')\n",
    "    plt.imshow(np.squeeze(im), cmap=cmap)\n",
    "\n",
    "def get_images_from_event(fn, tag_like='image/'):\n",
    "    image_str = tf.placeholder(tf.string)\n",
    "    im_tf = tf.image.decode_image(image_str)\n",
    "\n",
    "    images = []\n",
    "    with tf.Session() as sess:\n",
    "        for e in tf.train.summary_iterator(fn):\n",
    "            for v in e.summary.value:\n",
    "                if not tag_like or tag_like in v.tag:\n",
    "                    im = im_tf.eval({image_str: v.image.encoded_image_string})\n",
    "                    images.append((v.tag,im))\n",
    "    return images"
   ]
  },
  {
   "cell_type": "code",
   "execution_count": 3,
   "metadata": {},
   "outputs": [
    {
     "data": {
      "text/plain": [
       "'..\\\\logs\\\\monodepth\\\\events.out.tfevents.1675180347.KOL-PC'"
      ]
     },
     "execution_count": 3,
     "metadata": {},
     "output_type": "execute_result"
    }
   ],
   "source": [
    "files = [f for f in Path('../logs/monodepth').glob('*.tfevents.*')]\n",
    "files = sorted(files, key=lambda f: int(f.name.split('.')[3]), reverse=True)\n",
    "if not files:\n",
    "    raise Exception('No files found')\n",
    "str(files[0])"
   ]
  },
  {
   "cell_type": "code",
   "execution_count": 44,
   "metadata": {},
   "outputs": [
    {
     "data": {
      "text/plain": [
       "array(['disp_left_est_0/image/0', 'disp_left_est_0/image/1',\n",
       "       'disp_left_est_0/image/2', 'disp_left_est_0/image/3',\n",
       "       'disp_left_est_1/image/0', 'disp_left_est_1/image/1',\n",
       "       'disp_left_est_1/image/2', 'disp_left_est_1/image/3',\n",
       "       'disp_left_est_2/image/0', 'disp_left_est_2/image/1',\n",
       "       'disp_left_est_2/image/2', 'disp_left_est_2/image/3',\n",
       "       'disp_left_est_3/image/0', 'disp_left_est_3/image/1',\n",
       "       'disp_left_est_3/image/2', 'disp_left_est_3/image/3',\n",
       "       'disp_right_est_0/image/0', 'disp_right_est_0/image/1',\n",
       "       'disp_right_est_0/image/2', 'disp_right_est_0/image/3',\n",
       "       'disp_right_est_1/image/0', 'disp_right_est_1/image/1',\n",
       "       'disp_right_est_1/image/2', 'disp_right_est_1/image/3',\n",
       "       'disp_right_est_2/image/0', 'disp_right_est_2/image/1',\n",
       "       'disp_right_est_2/image/2', 'disp_right_est_2/image/3',\n",
       "       'disp_right_est_3/image/0', 'disp_right_est_3/image/1',\n",
       "       'disp_right_est_3/image/2', 'disp_right_est_3/image/3'],\n",
       "      dtype='<U24')"
      ]
     },
     "execution_count": 44,
     "metadata": {},
     "output_type": "execute_result"
    }
   ],
   "source": [
    "images = get_images_from_event(str(files[0]))\n",
    "tags = np.unique([x[0] for x in images])\n",
    "tags"
   ]
  },
  {
   "cell_type": "code",
   "execution_count": 45,
   "metadata": {},
   "outputs": [
    {
     "data": {
      "image/png": "[encoded data removed]",
      "text/plain": [
       "<Figure size 640x480 with 1 Axes>"
      ]
     },
     "metadata": {},
     "output_type": "display_data"
    }
   ],
   "source": [
    "imshow(images[0][1], 'plasma')"
   ]
  }
 ],
 "metadata": {
  "kernelspec": {
   "display_name": "tf1",
   "language": "python",
   "name": "python3"
  },
  "language_info": {
   "codemirror_mode": {
    "name": "ipython",
    "version": 3
   },
   "file_extension": ".py",
   "mimetype": "text/x-python",
   "name": "python",
   "nbconvert_exporter": "python",
   "pygments_lexer": "ipython3",
   "version": "3.7.15 (default, Nov 24 2022, 18:44:54) [MSC v.1916 64 bit (AMD64)]"
  },
  "orig_nbformat": 4,
  "vscode": {
   "interpreter": {
    "hash": "fc90116dfcac069a441edf91742b119aea956f6de5ab367ccaeefadd03d735b0"
   }
  }
 },
 "nbformat": 4,
 "nbformat_minor": 2
}
